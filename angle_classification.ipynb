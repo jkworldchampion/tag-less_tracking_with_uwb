{
 "cells": [
  {
   "cell_type": "markdown",
   "metadata": {},
   "source": [
    "# 방향을 알아낼 수 있게\n",
    "본 노트북은 CIR의 특성을 이용해, 각 신호의 반사파가 생긴 곳의 방향을 구별해내는 것을 목표로한다."
   ]
  },
  {
   "cell_type": "code",
   "execution_count": 1,
   "metadata": {},
   "outputs": [],
   "source": [
    "import pandas as pd\n",
    "import matplotlib.pyplot as plt\n",
    "import seaborn as sns\n",
    "import numpy as np\n",
    "from data_EDA import get_data, same_peak"
   ]
  },
  {
   "cell_type": "code",
   "execution_count": 2,
   "metadata": {},
   "outputs": [
    {
     "name": "stdout",
     "output_type": "stream",
     "text": [
      "len(data_log):  583\n",
      "not 1016:  3\n",
      "after:  0\n",
      "583\n",
      "len(data_log):  803\n",
      "not 1016:  9\n",
      "after:  0\n",
      "803\n",
      "len(data_log):  634\n",
      "not 1016:  3\n",
      "after:  0\n",
      "634\n",
      "len(data_log):  783\n",
      "not 1016:  3\n",
      "after:  0\n",
      "783\n",
      "len(data_log):  799\n",
      "not 1016:  6\n",
      "after:  0\n",
      "799\n",
      "len(data_log):  686\n",
      "not 1016:  12\n",
      "after:  0\n",
      "686\n",
      "len(data_log):  630\n",
      "not 1016:  10\n",
      "after:  0\n",
      "630\n",
      "len(data_log):  648\n",
      "not 1016:  3\n",
      "after:  0\n",
      "648\n",
      "len(data_log):  709\n",
      "not 1016:  10\n",
      "after:  0\n",
      "709\n"
     ]
    }
   ],
   "source": [
    "# get_data(\"지정하고 싶은 이름, \"파일 이름\")\n",
    "get_data(\"data/R_anchor_2m_0m.csv\", \"20240819-203038_DecaWaveAllAccum_R_anchor_2m_0m.log\")\n",
    "get_data(\"data/R_anchor_2m_1_5m.csv\", \"20240819-210400_DecaWaveAllAccum_R_anchor_2m_1_5m.log\")\n",
    "get_data(\"data/R_tag_2m_0m.csv\", \"20240819-204659_DecaWaveAllAccum_R_tag_2m_0m.log\")\n",
    "get_data(\"data/R_tag_2m_1_5m.csv\", \"20240819-205521_DecaWaveAllAccum_R_tag_2m_1_5m.log\")\n",
    "get_data(\"data/L_anchor_2m_0m.csv\", \"20240819-211414_DecaWaveAllAccum_L_anchor_2m_0m.log\")\n",
    "get_data(\"data/L_anchor_2m_1_5m.csv\", \"20240819-213245_DecaWaveAllAccum_L_anchor_2m_1_5m.log\")\n",
    "get_data(\"data/L_tag_2m_0m.csv\", \"20240819-212655_DecaWaveAllAccum_L_tag_2m_0m.log\")\n",
    "get_data(\"data/L_tag_2m_1_5m.csv\", \"20240819-213858_DecaWaveAllAccum_L_tag_2m_1_5m.log\")\n",
    "get_data(\"data/ground_truth.csv\", \"20240819-214752_DecaWaveAllAccum_empty.log\")"
   ]
  },
  {
   "cell_type": "code",
   "execution_count": 2,
   "metadata": {},
   "outputs": [],
   "source": [
    "# data 불러오기\n",
    "ra20 = pd.read_csv(\"data/R_anchor_2m_0m.csv\", index_col=0)\n",
    "ra215 = pd.read_csv(\"data/R_anchor_2m_1_5m.csv\", index_col=0)\n",
    "rt20 = pd.read_csv(\"data/R_tag_2m_0m.csv\", index_col=0)\n",
    "rt215 = pd.read_csv(\"data/R_tag_2m_1_5m.csv\", index_col=0)\n",
    "la20 = pd.read_csv(\"data/L_anchor_2m_0m.csv\", index_col=0)\n",
    "la215 = pd.read_csv(\"data/L_anchor_2m_1_5m.csv\", index_col=0)\n",
    "lt20 = pd.read_csv(\"data/L_tag_2m_0m.csv\", index_col=0)\n",
    "lt215 = pd.read_csv(\"data/L_tag_2m_1_5m.csv\", index_col=0)\n",
    "empty = pd.read_csv(\"data/ground_truth.csv\", index_col=0)"
   ]
  },
  {
   "cell_type": "code",
   "execution_count": 3,
   "metadata": {},
   "outputs": [],
   "source": [
    "# 앞뒤의 20개 데이터 제거\n",
    "ra20 = ra20[20:-20]\n",
    "ra215 = ra215[20:-20]\n",
    "rt20 = rt20[20:-20]\n",
    "rt215 = rt215[20:-20]\n",
    "la20 = la20[20:-20]\n",
    "la215 = la215[20:-20]\n",
    "lt20 = lt20[20:-20]\n",
    "lt215 = lt215[20:-20]\n",
    "empty = empty[20:-20]"
   ]
  },
  {
   "cell_type": "code",
   "execution_count": 4,
   "metadata": {},
   "outputs": [],
   "source": [
    "same_empty = same_peak(empty)"
   ]
  },
  {
   "cell_type": "code",
   "execution_count": 9,
   "metadata": {},
   "outputs": [
    {
     "data": {
      "text/plain": [
       "<Axes: >"
      ]
     },
     "execution_count": 9,
     "metadata": {},
     "output_type": "execute_result"
    },
    {
     "data": {
      "image/png": "[encoded data removed]",
      "text/plain": [
       "<Figure size 640x480 with 1 Axes>"
      ]
     },
     "metadata": {},
     "output_type": "display_data"
    }
   ],
   "source": [
    "empty.iloc[10].plot()"
   ]
  }
 ],
 "metadata": {
  "kernelspec": {
   "display_name": "Python 3",
   "language": "python",
   "name": "python3"
  },
  "language_info": {
   "codemirror_mode": {
    "name": "ipython",
    "version": 3
   },
   "file_extension": ".py",
   "mimetype": "text/x-python",
   "name": "python",
   "nbconvert_exporter": "python",
   "pygments_lexer": "ipython3",
   "version": "3.11.3"
  }
 },
 "nbformat": 4,
 "nbformat_minor": 2
}
